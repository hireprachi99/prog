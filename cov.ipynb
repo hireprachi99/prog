{
  "nbformat": 4,
  "nbformat_minor": 0,
  "metadata": {
    "colab": {
      "name": "cov.ipynb",
      "version": "0.3.2",
      "provenance": [],
      "include_colab_link": true
    },
    "kernelspec": {
      "name": "python3",
      "display_name": "Python 3"
    }
  },
  "cells": [
    {
      "cell_type": "markdown",
      "metadata": {
        "id": "view-in-github",
        "colab_type": "text"
      },
      "source": [
        "<a href=\"https://colab.research.google.com/github/hireprachi99/prog/blob/master/cov.ipynb\" target=\"_parent\"><img src=\"https://colab.research.google.com/assets/colab-badge.svg\" alt=\"Open In Colab\"/></a>"
      ]
    },
    {
      "cell_type": "code",
      "metadata": {
        "id": "lRf2SgWIdUxW",
        "colab_type": "code",
        "colab": {
          "base_uri": "https://localhost:8080/",
          "height": 34
        },
        "outputId": "d8868bae-9113-43ab-99a9-44a9c0ac138b"
      },
      "source": [
        "import numpy as np\n",
        "Physics=[[15],[12],[8],[8],[7],[7],[7],[6],[5],[3]]\n",
        "History=[[10],[25],[17],[11],[13],[17],[20],[13],[9],[15]]\n",
        "a=np.std(Physics)\n",
        "b=np.std(History)\n",
        "Physics=[15,12,8,8,7,7,7,6,5,3]\n",
        "History=[10,25,17,11,13,17,20,13,9,15]\n",
        "c=np.cov(Physics,History,bias=True)[0][1]\n",
        "r=c/(a*b)\n",
        "print(\"%.3f\"%r)"
      ],
      "execution_count": 6,
      "outputs": [
        {
          "output_type": "stream",
          "text": [
            "0.145\n"
          ],
          "name": "stdout"
        }
      ]
    }
  ]
}